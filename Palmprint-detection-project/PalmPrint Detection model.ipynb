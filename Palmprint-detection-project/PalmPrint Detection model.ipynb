{
 "cells": [
  {
   "cell_type": "code",
   "execution_count": 1,
   "id": "b384190c",
   "metadata": {},
   "outputs": [
    {
     "name": "stdout",
     "output_type": "stream",
     "text": [
      " Volume in drive C is Acer\n",
      " Volume Serial Number is D812-1956\n",
      "\n",
      " Directory of C:\\Code Playground\\Palmprintdetection_project\n",
      "\n",
      "24-01-2023  22:08    <DIR>          .\n",
      "21-01-2023  21:30    <DIR>          ..\n",
      "24-01-2023  10:20    <DIR>          .ipynb_checkpoints\n",
      "14-11-2022  01:49           655,831 9939-Article Text-17682-1-10-20210714.pdf\n",
      "23-01-2023  20:33    <DIR>          dataset\n",
      "13-11-2022  22:04    <DIR>          palm detection\n",
      "24-01-2023  22:08            10,415 PalmPrint Detection model.ipynb\n",
      "24-01-2023  22:02           965,459 Preprocessing_dataset.ipynb\n",
      "23-01-2023  10:28            99,412 testing with sample images.ipynb\n",
      "24-01-2023  22:02        14,440,167 X_guass.pickle\n",
      "24-01-2023  22:02        14,440,167 X_meanth.pickle\n",
      "24-01-2023  22:02             1,595 y_guass.pickle\n",
      "24-01-2023  22:02             1,595 y_meanth.pickle\n",
      "               8 File(s)     30,614,641 bytes\n",
      "               5 Dir(s)  262,896,103,424 bytes free\n"
     ]
    }
   ],
   "source": [
    "!dir"
   ]
  },
  {
   "cell_type": "code",
   "execution_count": 2,
   "id": "8ca01d83",
   "metadata": {},
   "outputs": [],
   "source": [
    "import numpy as np\n",
    "import pandas as pd\n",
    "import matplotlib.pyplot as plt\n",
    "import pickle\n",
    "import os\n",
    "import cv2 as cv\n",
    "import re \n",
    "from collections import Counter\n",
    "import tensorflow as tf\n",
    "from tensorflow.keras.layers import Dense,Activation,Flatten,Conv2D,MaxPooling2D\n",
    "from tensorflow.keras.models import Sequential\n",
    "from sklearn.model_selection import train_test_split"
   ]
  },
  {
   "cell_type": "code",
   "execution_count": 3,
   "id": "49b1115f",
   "metadata": {},
   "outputs": [],
   "source": [
    "#Meanth data\n",
    "pickle_in=open(\"X_meanth.pickle\",\"rb\")\n",
    "X_meanth=pickle.load(pickle_in)\n",
    "pickle_in.close()\n",
    "pickle_in=open(\"y_meanth.pickle\",\"rb\")\n",
    "y_meanth=pickle.load(pickle_in)\n",
    "pickle_in.close()"
   ]
  },
  {
   "cell_type": "code",
   "execution_count": 4,
   "id": "fffa2723",
   "metadata": {},
   "outputs": [
    {
     "data": {
      "text/plain": [
       "(361, 200, 200, 1)"
      ]
     },
     "execution_count": 4,
     "metadata": {},
     "output_type": "execute_result"
    }
   ],
   "source": [
    "X_meanth.shape"
   ]
  },
  {
   "cell_type": "code",
   "execution_count": 5,
   "id": "3c5d9828",
   "metadata": {},
   "outputs": [
    {
     "data": {
      "text/plain": [
       "(361,)"
      ]
     },
     "execution_count": 5,
     "metadata": {},
     "output_type": "execute_result"
    }
   ],
   "source": [
    "y_meanth.shape"
   ]
  },
  {
   "cell_type": "code",
   "execution_count": 6,
   "id": "e5cfaddf",
   "metadata": {},
   "outputs": [
    {
     "data": {
      "text/plain": [
       "361"
      ]
     },
     "execution_count": 6,
     "metadata": {},
     "output_type": "execute_result"
    }
   ],
   "source": [
    "len(X_meanth)"
   ]
  },
  {
   "cell_type": "code",
   "execution_count": 7,
   "id": "c5150ec4",
   "metadata": {},
   "outputs": [
    {
     "data": {
      "text/plain": [
       "361"
      ]
     },
     "execution_count": 7,
     "metadata": {},
     "output_type": "execute_result"
    }
   ],
   "source": [
    "len(y_meanth)"
   ]
  },
  {
   "cell_type": "code",
   "execution_count": 8,
   "id": "4cedc14c",
   "metadata": {},
   "outputs": [],
   "source": [
    "Xmtrain,Xmtest,ymtrain,ymtest=train_test_split(X_meanth,y_meanth,test_size=0.2,random_state=42)"
   ]
  },
  {
   "cell_type": "code",
   "execution_count": 9,
   "id": "5c8950c8",
   "metadata": {},
   "outputs": [
    {
     "name": "stdout",
     "output_type": "stream",
     "text": [
      "288 73 288 73\n"
     ]
    }
   ],
   "source": [
    "print(len(Xmtrain),len(Xmtest),len(ymtrain),len(ymtest))"
   ]
  },
  {
   "cell_type": "code",
   "execution_count": 10,
   "id": "0cdda594",
   "metadata": {},
   "outputs": [
    {
     "data": {
      "text/plain": [
       "dtype('int32')"
      ]
     },
     "execution_count": 10,
     "metadata": {},
     "output_type": "execute_result"
    }
   ],
   "source": [
    "type(Xmtrain)\n",
    "type(ymtrain)\n",
    "ymtrain.dtype"
   ]
  },
  {
   "cell_type": "code",
   "execution_count": 36,
   "id": "db3cd4ef",
   "metadata": {},
   "outputs": [
    {
     "name": "stdout",
     "output_type": "stream",
     "text": [
      "Epoch 1/4\n",
      "9/9 [==============================] - 5s 449ms/step - loss: 1699.2988 - accuracy: 0.1004 - val_loss: 407.7896 - val_accuracy: 0.1034\n",
      "Epoch 2/4\n",
      "9/9 [==============================] - 4s 433ms/step - loss: 120.5435 - accuracy: 0.1544 - val_loss: 4.3854 - val_accuracy: 0.2414\n",
      "Epoch 3/4\n",
      "9/9 [==============================] - 4s 432ms/step - loss: 0.4555 - accuracy: 0.8803 - val_loss: 2.0297 - val_accuracy: 0.4828\n",
      "Epoch 4/4\n",
      "9/9 [==============================] - 4s 436ms/step - loss: 0.0053 - accuracy: 1.0000 - val_loss: 2.3020 - val_accuracy: 0.5862\n"
     ]
    },
    {
     "data": {
      "text/plain": [
       "<keras.callbacks.History at 0x2328e11e470>"
      ]
     },
     "execution_count": 36,
     "metadata": {},
     "output_type": "execute_result"
    }
   ],
   "source": [
    "from keras.optimizers import Adam\n",
    "\n",
    "model = Sequential()\n",
    "\n",
    "# Add the first layer (convolutional layer)\n",
    "model.add(Conv2D(filters=32, kernel_size=(3,3), padding='same', activation='relu',input_shape=Xmtrain.shape[1:]))\n",
    "\n",
    "# Add the second layer (max pooling layer)\n",
    "model.add(MaxPooling2D(pool_size=(2, 2), strides=2))\n",
    "\n",
    "# Add the third layer (convolutional layer)\n",
    "model.add(Conv2D(filters=64, kernel_size=(3,3), padding='same', activation='relu',input_shape=Xmtrain.shape[1:]))\n",
    "\n",
    "# Add the forth layer (max pooling layer)\n",
    "model.add(MaxPooling2D(pool_size=(2, 2), strides=2))\n",
    "\n",
    "# Add the fifth layer (flatten layer)\n",
    "model.add(Flatten())\n",
    "\n",
    "# Add the output layer\n",
    "model.add(Dense(12, activation='softmax'))\n",
    "\n",
    "# Compile the model\n",
    "# optimizer = Adam(learning_rate=0.00001)\n",
    "model.compile(optimizer='adam', loss='sparse_categorical_crossentropy', metrics=['accuracy'])\n",
    "\n",
    "\n",
    "model.fit(Xmtrain,ymtrain,epochs=4,validation_split=0.1)"
   ]
  },
  {
   "cell_type": "code",
   "execution_count": 37,
   "id": "4012e45f",
   "metadata": {},
   "outputs": [
    {
     "name": "stdout",
     "output_type": "stream",
     "text": [
      "WARNING:tensorflow:5 out of the last 19 calls to <function Model.make_predict_function.<locals>.predict_function at 0x0000023286E7D900> triggered tf.function retracing. Tracing is expensive and the excessive number of tracings could be due to (1) creating @tf.function repeatedly in a loop, (2) passing tensors with different shapes, (3) passing Python objects instead of tensors. For (1), please define your @tf.function outside of the loop. For (2), @tf.function has reduce_retracing=True option that can avoid unnecessary retracing. For (3), please refer to https://www.tensorflow.org/guide/function#controlling_retracing and https://www.tensorflow.org/api_docs/python/tf/function for  more details.\n",
      "3/3 [==============================] - 0s 79ms/step\n"
     ]
    },
    {
     "data": {
      "text/plain": [
       "array([ 0, 10,  7,  7,  5,  5,  5,  7,  9,  3,  1,  7,  7, 11, 11,  5,  4,\n",
       "        9,  9, 10,  3, 10,  3,  7,  3,  3, 11, 10,  3,  3,  4,  8,  1,  3,\n",
       "        3,  3,  5,  0,  5,  5,  5,  5,  7,  7, 10,  0,  5,  8,  3,  5,  3,\n",
       "        7,  8, 11,  3,  4,  6,  2,  5,  7,  5,  3,  9,  3, 10,  6,  3,  3,\n",
       "        7,  7,  6, 10,  7], dtype=int64)"
      ]
     },
     "execution_count": 37,
     "metadata": {},
     "output_type": "execute_result"
    }
   ],
   "source": [
    "np.array(list(map(np.argmax,model.predict(Xmtest)))).reshape(-1)"
   ]
  },
  {
   "cell_type": "code",
   "execution_count": 38,
   "id": "0b922dc2",
   "metadata": {},
   "outputs": [
    {
     "data": {
      "text/plain": [
       "array([ 2, 10,  7,  7,  6,  4,  4,  7,  9,  1,  1,  0,  7,  5,  1,  6,  2,\n",
       "        9,  9,  9,  2,  9,  0,  7,  3,  4, 11, 10,  0,  7,  4,  9,  5,  4,\n",
       "        3,  1,  2,  0,  1,  1,  4,  5,  7,  7, 10,  3,  2,  8,  0,  1,  8,\n",
       "        7,  8, 11, 10,  4,  6,  2,  6,  3,  3,  4,  9, 11, 10,  6,  3,  9,\n",
       "        7,  7,  6, 11,  7])"
      ]
     },
     "execution_count": 38,
     "metadata": {},
     "output_type": "execute_result"
    }
   ],
   "source": [
    "ymtest"
   ]
  },
  {
   "cell_type": "code",
   "execution_count": 39,
   "id": "43d7fa3e",
   "metadata": {},
   "outputs": [
    {
     "name": "stdout",
     "output_type": "stream",
     "text": [
      "Model: \"sequential_10\"\n",
      "_________________________________________________________________\n",
      " Layer (type)                Output Shape              Param #   \n",
      "=================================================================\n",
      " conv2d_20 (Conv2D)          (None, 200, 200, 32)      320       \n",
      "                                                                 \n",
      " max_pooling2d_20 (MaxPoolin  (None, 100, 100, 32)     0         \n",
      " g2D)                                                            \n",
      "                                                                 \n",
      " conv2d_21 (Conv2D)          (None, 100, 100, 64)      18496     \n",
      "                                                                 \n",
      " max_pooling2d_21 (MaxPoolin  (None, 50, 50, 64)       0         \n",
      " g2D)                                                            \n",
      "                                                                 \n",
      " flatten_10 (Flatten)        (None, 160000)            0         \n",
      "                                                                 \n",
      " dense_10 (Dense)            (None, 12)                1920012   \n",
      "                                                                 \n",
      "=================================================================\n",
      "Total params: 1,938,828\n",
      "Trainable params: 1,938,828\n",
      "Non-trainable params: 0\n",
      "_________________________________________________________________\n"
     ]
    }
   ],
   "source": [
    "model.summary()"
   ]
  },
  {
   "cell_type": "code",
   "execution_count": 47,
   "id": "f1558f91",
   "metadata": {},
   "outputs": [
    {
     "data": {
      "text/plain": [
       "73"
      ]
     },
     "execution_count": 47,
     "metadata": {},
     "output_type": "execute_result"
    }
   ],
   "source": [
    "# from sklearn.metrics import r2_score\n",
    "# r2_score(ymtest,model.predict(Xmtest))\n",
    "len(Xmtest)"
   ]
  },
  {
   "cell_type": "code",
   "execution_count": 48,
   "id": "237931d5",
   "metadata": {},
   "outputs": [
    {
     "data": {
      "text/plain": [
       "73"
      ]
     },
     "execution_count": 48,
     "metadata": {},
     "output_type": "execute_result"
    }
   ],
   "source": [
    "len(ymtest)"
   ]
  },
  {
   "cell_type": "code",
   "execution_count": 40,
   "id": "5f8d772f",
   "metadata": {},
   "outputs": [
    {
     "name": "stderr",
     "output_type": "stream",
     "text": [
      "WARNING:absl:Found untraced functions such as _jit_compiled_convolution_op, _jit_compiled_convolution_op, _update_step_xla while saving (showing 3 of 3). These functions will not be directly callable after loading.\n"
     ]
    },
    {
     "name": "stdout",
     "output_type": "stream",
     "text": [
      "INFO:tensorflow:Assets written to: Palmprint_detection_meanth.model\\assets\n"
     ]
    },
    {
     "name": "stderr",
     "output_type": "stream",
     "text": [
      "INFO:tensorflow:Assets written to: Palmprint_detection_meanth.model\\assets\n"
     ]
    }
   ],
   "source": [
    "model.save(\"Palmprint_detection_meanth.model\")"
   ]
  },
  {
   "cell_type": "code",
   "execution_count": 41,
   "id": "fb7e3982",
   "metadata": {},
   "outputs": [],
   "source": [
    "pickle_in=open(\"X_guass.pickle\",\"rb\")\n",
    "X_guass=pickle.load(pickle_in)\n",
    "pickle_in.close()\n",
    "pickle_in=open(\"y_guass.pickle\",\"rb\")\n",
    "y_guass=pickle.load(pickle_in)\n",
    "pickle_in.close()"
   ]
  },
  {
   "cell_type": "code",
   "execution_count": 42,
   "id": "66842fcd",
   "metadata": {},
   "outputs": [
    {
     "data": {
      "text/plain": [
       "(361, 200, 200, 1)"
      ]
     },
     "execution_count": 42,
     "metadata": {},
     "output_type": "execute_result"
    }
   ],
   "source": [
    "X_guass.shape"
   ]
  },
  {
   "cell_type": "code",
   "execution_count": 43,
   "id": "3541b7e8",
   "metadata": {},
   "outputs": [
    {
     "data": {
      "text/plain": [
       "(361,)"
      ]
     },
     "execution_count": 43,
     "metadata": {},
     "output_type": "execute_result"
    }
   ],
   "source": [
    "y_guass.shape"
   ]
  },
  {
   "cell_type": "code",
   "execution_count": 44,
   "id": "c3bc4d18",
   "metadata": {},
   "outputs": [
    {
     "data": {
      "text/plain": [
       "array([[[[255],\n",
       "         [255],\n",
       "         [255],\n",
       "         ...,\n",
       "         [255],\n",
       "         [255],\n",
       "         [255]],\n",
       "\n",
       "        [[255],\n",
       "         [255],\n",
       "         [255],\n",
       "         ...,\n",
       "         [255],\n",
       "         [255],\n",
       "         [255]],\n",
       "\n",
       "        [[255],\n",
       "         [255],\n",
       "         [255],\n",
       "         ...,\n",
       "         [  0],\n",
       "         [255],\n",
       "         [255]],\n",
       "\n",
       "        ...,\n",
       "\n",
       "        [[255],\n",
       "         [255],\n",
       "         [  0],\n",
       "         ...,\n",
       "         [  0],\n",
       "         [255],\n",
       "         [255]],\n",
       "\n",
       "        [[255],\n",
       "         [255],\n",
       "         [  0],\n",
       "         ...,\n",
       "         [  0],\n",
       "         [255],\n",
       "         [255]],\n",
       "\n",
       "        [[  0],\n",
       "         [255],\n",
       "         [255],\n",
       "         ...,\n",
       "         [  0],\n",
       "         [255],\n",
       "         [255]]],\n",
       "\n",
       "\n",
       "       [[[255],\n",
       "         [255],\n",
       "         [255],\n",
       "         ...,\n",
       "         [255],\n",
       "         [255],\n",
       "         [255]],\n",
       "\n",
       "        [[255],\n",
       "         [255],\n",
       "         [  0],\n",
       "         ...,\n",
       "         [255],\n",
       "         [255],\n",
       "         [255]],\n",
       "\n",
       "        [[  0],\n",
       "         [255],\n",
       "         [255],\n",
       "         ...,\n",
       "         [255],\n",
       "         [255],\n",
       "         [255]],\n",
       "\n",
       "        ...,\n",
       "\n",
       "        [[255],\n",
       "         [255],\n",
       "         [255],\n",
       "         ...,\n",
       "         [255],\n",
       "         [255],\n",
       "         [255]],\n",
       "\n",
       "        [[255],\n",
       "         [255],\n",
       "         [255],\n",
       "         ...,\n",
       "         [255],\n",
       "         [255],\n",
       "         [255]],\n",
       "\n",
       "        [[  0],\n",
       "         [255],\n",
       "         [255],\n",
       "         ...,\n",
       "         [255],\n",
       "         [255],\n",
       "         [255]]],\n",
       "\n",
       "\n",
       "       [[[255],\n",
       "         [255],\n",
       "         [255],\n",
       "         ...,\n",
       "         [255],\n",
       "         [255],\n",
       "         [255]],\n",
       "\n",
       "        [[255],\n",
       "         [255],\n",
       "         [  0],\n",
       "         ...,\n",
       "         [255],\n",
       "         [255],\n",
       "         [255]],\n",
       "\n",
       "        [[255],\n",
       "         [255],\n",
       "         [255],\n",
       "         ...,\n",
       "         [255],\n",
       "         [255],\n",
       "         [255]],\n",
       "\n",
       "        ...,\n",
       "\n",
       "        [[255],\n",
       "         [255],\n",
       "         [255],\n",
       "         ...,\n",
       "         [255],\n",
       "         [255],\n",
       "         [255]],\n",
       "\n",
       "        [[255],\n",
       "         [255],\n",
       "         [255],\n",
       "         ...,\n",
       "         [255],\n",
       "         [255],\n",
       "         [255]],\n",
       "\n",
       "        [[255],\n",
       "         [255],\n",
       "         [255],\n",
       "         ...,\n",
       "         [255],\n",
       "         [255],\n",
       "         [255]]],\n",
       "\n",
       "\n",
       "       ...,\n",
       "\n",
       "\n",
       "       [[[  0],\n",
       "         [  0],\n",
       "         [  0],\n",
       "         ...,\n",
       "         [  0],\n",
       "         [255],\n",
       "         [  0]],\n",
       "\n",
       "        [[255],\n",
       "         [  0],\n",
       "         [  0],\n",
       "         ...,\n",
       "         [  0],\n",
       "         [255],\n",
       "         [255]],\n",
       "\n",
       "        [[255],\n",
       "         [255],\n",
       "         [  0],\n",
       "         ...,\n",
       "         [255],\n",
       "         [255],\n",
       "         [255]],\n",
       "\n",
       "        ...,\n",
       "\n",
       "        [[255],\n",
       "         [255],\n",
       "         [255],\n",
       "         ...,\n",
       "         [  0],\n",
       "         [  0],\n",
       "         [255]],\n",
       "\n",
       "        [[255],\n",
       "         [255],\n",
       "         [255],\n",
       "         ...,\n",
       "         [  0],\n",
       "         [  0],\n",
       "         [255]],\n",
       "\n",
       "        [[255],\n",
       "         [255],\n",
       "         [255],\n",
       "         ...,\n",
       "         [  0],\n",
       "         [  0],\n",
       "         [  0]]],\n",
       "\n",
       "\n",
       "       [[[255],\n",
       "         [255],\n",
       "         [255],\n",
       "         ...,\n",
       "         [255],\n",
       "         [255],\n",
       "         [255]],\n",
       "\n",
       "        [[255],\n",
       "         [255],\n",
       "         [255],\n",
       "         ...,\n",
       "         [255],\n",
       "         [255],\n",
       "         [255]],\n",
       "\n",
       "        [[255],\n",
       "         [255],\n",
       "         [255],\n",
       "         ...,\n",
       "         [255],\n",
       "         [255],\n",
       "         [255]],\n",
       "\n",
       "        ...,\n",
       "\n",
       "        [[  0],\n",
       "         [  0],\n",
       "         [255],\n",
       "         ...,\n",
       "         [255],\n",
       "         [255],\n",
       "         [255]],\n",
       "\n",
       "        [[  0],\n",
       "         [  0],\n",
       "         [255],\n",
       "         ...,\n",
       "         [255],\n",
       "         [255],\n",
       "         [255]],\n",
       "\n",
       "        [[  0],\n",
       "         [  0],\n",
       "         [255],\n",
       "         ...,\n",
       "         [255],\n",
       "         [255],\n",
       "         [  0]]],\n",
       "\n",
       "\n",
       "       [[[  0],\n",
       "         [255],\n",
       "         [255],\n",
       "         ...,\n",
       "         [255],\n",
       "         [  0],\n",
       "         [255]],\n",
       "\n",
       "        [[255],\n",
       "         [255],\n",
       "         [255],\n",
       "         ...,\n",
       "         [255],\n",
       "         [255],\n",
       "         [255]],\n",
       "\n",
       "        [[255],\n",
       "         [255],\n",
       "         [255],\n",
       "         ...,\n",
       "         [255],\n",
       "         [255],\n",
       "         [255]],\n",
       "\n",
       "        ...,\n",
       "\n",
       "        [[  0],\n",
       "         [  0],\n",
       "         [255],\n",
       "         ...,\n",
       "         [255],\n",
       "         [255],\n",
       "         [  0]],\n",
       "\n",
       "        [[  0],\n",
       "         [  0],\n",
       "         [255],\n",
       "         ...,\n",
       "         [255],\n",
       "         [255],\n",
       "         [  0]],\n",
       "\n",
       "        [[  0],\n",
       "         [  0],\n",
       "         [255],\n",
       "         ...,\n",
       "         [255],\n",
       "         [255],\n",
       "         [  0]]]], dtype=uint8)"
      ]
     },
     "execution_count": 44,
     "metadata": {},
     "output_type": "execute_result"
    }
   ],
   "source": [
    "X_guass"
   ]
  },
  {
   "cell_type": "code",
   "execution_count": 45,
   "id": "b87823a3",
   "metadata": {},
   "outputs": [
    {
     "data": {
      "text/plain": [
       "array([ 1,  2,  8,  2,  1,  5,  3,  7,  1,  7, 10,  0,  4, 10,  4,  1,  3,\n",
       "        8, 11,  0,  3,  6,  7,  9,  3,  6,  1,  6, 11,  3,  5,  9,  5,  3,\n",
       "        7,  9,  9,  2,  2,  4,  3,  1,  3,  8,  5,  3,  9,  5, 11,  4,  2,\n",
       "        9,  5,  4,  6,  2,  3,  6,  7,  2,  0,  9,  0,  0, 11,  7,  0,  1,\n",
       "        9,  2, 10,  8,  9,  3,  4,  2,  3, 10, 10,  7,  8, 11,  6,  9,  2,\n",
       "       10,  7,  1,  4, 11,  9,  1,  4,  1,  1,  2,  7,  2,  8,  9,  2,  3,\n",
       "        0,  0,  9,  5, 10,  5,  8,  4,  0, 10,  5,  4, 10,  3,  9,  3,  4,\n",
       "       10,  3,  6,  9,  5,  2, 11,  1,  9,  4,  2,  2,  2,  0,  3,  5,  0,\n",
       "        4, 11,  6,  3, 10,  0,  1,  7,  7,  9,  8,  0,  1,  0, 11, 11,  9,\n",
       "        3, 10,  6,  8,  0,  0,  9,  5, 11,  6,  0,  8,  6,  5,  3,  8, 10,\n",
       "        7,  3, 10,  2,  2,  7,  2,  9,  0,  1,  1,  1,  0, 11,  1, 10,  9,\n",
       "        7,  7,  7, 11,  4,  0,  5,  5, 11,  6,  8,  3,  7,  4,  4,  0,  1,\n",
       "       11, 11,  4,  3, 10,  4,  1,  3,  5,  2,  5,  0,  8,  1,  9,  5,  6,\n",
       "        1,  2,  6,  7,  2,  2,  6,  4, 11,  8, 11,  6,  6,  2, 11, 11, 10,\n",
       "        8, 10,  7, 10,  9,  7, 10, 11,  2,  7,  5, 10,  6,  5, 11,  0,  0,\n",
       "        8,  4,  3,  0,  1,  9,  1,  4,  9, 11,  2,  1, 11, 10,  1,  8,  3,\n",
       "        2,  9,  5, 11,  3,  6,  8,  5,  7,  9,  8,  3,  4,  6,  8,  6,  6,\n",
       "        4,  8,  7,  4,  7,  3,  1,  0,  8,  5,  4,  6,  3,  7, 10,  5,  6,\n",
       "        8, 11,  8,  9,  5,  8,  8,  2,  1,  7,  5,  8, 11, 11,  5,  0,  4,\n",
       "        9,  7, 11,  7,  7,  4,  4,  4, 10,  0,  4, 10, 10,  1,  9, 10, 10,\n",
       "        6,  8,  1,  5, 11,  6,  7,  6,  5,  2,  9,  5,  6,  6,  8, 10, 10,\n",
       "        5,  0,  0,  8])"
      ]
     },
     "execution_count": 45,
     "metadata": {},
     "output_type": "execute_result"
    }
   ],
   "source": [
    "y_guass"
   ]
  },
  {
   "cell_type": "code",
   "execution_count": 51,
   "id": "0450a6b2",
   "metadata": {},
   "outputs": [],
   "source": [
    "Xgtrain,Xgtest,ygtrain,ygtest=train_test_split(X_guass,y_guass,test_size=0.2,random_state=42)"
   ]
  },
  {
   "cell_type": "code",
   "execution_count": 52,
   "id": "1d3c97ba",
   "metadata": {},
   "outputs": [
    {
     "name": "stdout",
     "output_type": "stream",
     "text": [
      "288 73 288 73\n"
     ]
    }
   ],
   "source": [
    "print(len(Xgtrain),len(Xgtest),len(ygtrain),len(ygtest))"
   ]
  },
  {
   "cell_type": "code",
   "execution_count": 63,
   "id": "88aca276",
   "metadata": {},
   "outputs": [
    {
     "name": "stdout",
     "output_type": "stream",
     "text": [
      "Epoch 1/4\n",
      "9/9 [==============================] - 5s 493ms/step - loss: 1369.9785 - accuracy: 0.0618 - val_loss: 104.9225 - val_accuracy: 0.0690\n",
      "Epoch 2/4\n",
      "9/9 [==============================] - 4s 454ms/step - loss: 24.2639 - accuracy: 0.1274 - val_loss: 3.3628 - val_accuracy: 0.0000e+00\n",
      "Epoch 3/4\n",
      "9/9 [==============================] - 4s 440ms/step - loss: 1.8503 - accuracy: 0.5212 - val_loss: 2.0207 - val_accuracy: 0.3793\n",
      "Epoch 4/4\n",
      "9/9 [==============================] - 4s 443ms/step - loss: 0.2022 - accuracy: 0.9923 - val_loss: 2.2681 - val_accuracy: 0.5172\n"
     ]
    },
    {
     "data": {
      "text/plain": [
       "<keras.callbacks.History at 0x2329ae8cac0>"
      ]
     },
     "execution_count": 63,
     "metadata": {},
     "output_type": "execute_result"
    }
   ],
   "source": [
    "from keras.optimizers import Adam\n",
    "\n",
    "modelGuass = Sequential()\n",
    "\n",
    "# Add the first layer (convolutional layer)\n",
    "modelGuass.add(Conv2D(filters=32, kernel_size=(3,3), padding='same', activation='relu',input_shape=Xgtrain.shape[1:]))\n",
    "\n",
    "# Add the second layer (max pooling layer)\n",
    "modelGuass.add(MaxPooling2D(pool_size=(2, 2), strides=2))\n",
    "\n",
    "# Add the third layer (convolutional layer)\n",
    "modelGuass.add(Conv2D(filters=64, kernel_size=(3,3), padding='same', activation='relu',input_shape=Xgtrain.shape[1:]))\n",
    "\n",
    "# Add the forth layer (max pooling layer)\n",
    "modelGuass.add(MaxPooling2D(pool_size=(2, 2), strides=2))\n",
    "\n",
    "# Add the fifth layer (flatten layer)\n",
    "modelGuass.add(Flatten())\n",
    "\n",
    "# Add the output layer\n",
    "modelGuass.add(Dense(12, activation='softmax'))\n",
    "\n",
    "# Compile the model\n",
    "# optimizer = Adam(learning_rate=0.00001)\n",
    "modelGuass.compile(optimizer='adam', loss='sparse_categorical_crossentropy', metrics=['accuracy'])\n",
    "\n",
    "\n",
    "modelGuass.fit(Xgtrain,ygtrain,epochs=4,validation_split=0.1)"
   ]
  },
  {
   "cell_type": "code",
   "execution_count": 64,
   "id": "3d76e5f4",
   "metadata": {},
   "outputs": [
    {
     "name": "stdout",
     "output_type": "stream",
     "text": [
      "3/3 [==============================] - 0s 78ms/step\n"
     ]
    },
    {
     "data": {
      "text/plain": [
       "array([11, 10, 11,  5, 11,  9,  3, 10, 11,  4, 11,  4,  5, 11, 11,  9,  9,\n",
       "        7, 11,  2,  5,  8,  9,  6,  5,  5, 11,  8, 11,  5,  0,  9,  5,  3,\n",
       "       10, 10,  0, 11,  2,  2,  7, 11,  9,  7,  4,  2,  5, 10,  5, 11,  4,\n",
       "        2,  7, 11,  8, 11,  1,  2,  4, 11, 10, 11, 11,  9, 11,  2, 11,  2,\n",
       "        8,  4, 11,  8, 11], dtype=int64)"
      ]
     },
     "execution_count": 64,
     "metadata": {},
     "output_type": "execute_result"
    }
   ],
   "source": [
    "np.array(list(map(np.argmax,modelGuass.predict(Xgtest)))).reshape(-1)"
   ]
  },
  {
   "cell_type": "code",
   "execution_count": 65,
   "id": "75c6e73e",
   "metadata": {},
   "outputs": [
    {
     "data": {
      "text/plain": [
       "array([ 2, 10,  7,  7,  6,  4,  4,  7,  9,  1,  1,  0,  7,  5,  1,  6,  2,\n",
       "        9,  9,  9,  2,  9,  0,  7,  3,  4, 11, 10,  0,  7,  4,  9,  5,  4,\n",
       "        3,  1,  2,  0,  1,  1,  4,  5,  7,  7, 10,  3,  2,  8,  0,  1,  8,\n",
       "        7,  8, 11, 10,  4,  6,  2,  6,  3,  3,  4,  9, 11, 10,  6,  3,  9,\n",
       "        7,  7,  6, 11,  7])"
      ]
     },
     "execution_count": 65,
     "metadata": {},
     "output_type": "execute_result"
    }
   ],
   "source": [
    "ymtest"
   ]
  },
  {
   "cell_type": "code",
   "execution_count": 67,
   "id": "bf227c4a",
   "metadata": {},
   "outputs": [
    {
     "name": "stdout",
     "output_type": "stream",
     "text": [
      "Model: \"sequential_16\"\n",
      "_________________________________________________________________\n",
      " Layer (type)                Output Shape              Param #   \n",
      "=================================================================\n",
      " conv2d_32 (Conv2D)          (None, 200, 200, 32)      320       \n",
      "                                                                 \n",
      " max_pooling2d_32 (MaxPoolin  (None, 100, 100, 32)     0         \n",
      " g2D)                                                            \n",
      "                                                                 \n",
      " conv2d_33 (Conv2D)          (None, 100, 100, 64)      18496     \n",
      "                                                                 \n",
      " max_pooling2d_33 (MaxPoolin  (None, 50, 50, 64)       0         \n",
      " g2D)                                                            \n",
      "                                                                 \n",
      " flatten_16 (Flatten)        (None, 160000)            0         \n",
      "                                                                 \n",
      " dense_16 (Dense)            (None, 12)                1920012   \n",
      "                                                                 \n",
      "=================================================================\n",
      "Total params: 1,938,828\n",
      "Trainable params: 1,938,828\n",
      "Non-trainable params: 0\n",
      "_________________________________________________________________\n"
     ]
    }
   ],
   "source": [
    "modelGuass.summary()"
   ]
  },
  {
   "cell_type": "code",
   "execution_count": 68,
   "id": "c93b5022",
   "metadata": {},
   "outputs": [
    {
     "name": "stderr",
     "output_type": "stream",
     "text": [
      "WARNING:absl:Found untraced functions such as _jit_compiled_convolution_op, _jit_compiled_convolution_op, _update_step_xla while saving (showing 3 of 3). These functions will not be directly callable after loading.\n"
     ]
    },
    {
     "name": "stdout",
     "output_type": "stream",
     "text": [
      "INFO:tensorflow:Assets written to: Palmprint_detection_guass.model\\assets\n"
     ]
    },
    {
     "name": "stderr",
     "output_type": "stream",
     "text": [
      "INFO:tensorflow:Assets written to: Palmprint_detection_guass.model\\assets\n"
     ]
    }
   ],
   "source": [
    "modelGuass.save(\"Palmprint_detection_guass.model\")"
   ]
  },
  {
   "cell_type": "code",
   "execution_count": null,
   "id": "a769f35f",
   "metadata": {},
   "outputs": [],
   "source": []
  }
 ],
 "metadata": {
  "kernelspec": {
   "display_name": "Python 3 (ipykernel)",
   "language": "python",
   "name": "python3"
  },
  "language_info": {
   "codemirror_mode": {
    "name": "ipython",
    "version": 3
   },
   "file_extension": ".py",
   "mimetype": "text/x-python",
   "name": "python",
   "nbconvert_exporter": "python",
   "pygments_lexer": "ipython3",
   "version": "3.10.0"
  }
 },
 "nbformat": 4,
 "nbformat_minor": 5
}
