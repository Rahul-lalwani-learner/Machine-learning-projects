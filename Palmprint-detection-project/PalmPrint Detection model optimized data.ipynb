{
 "cells": [
  {
   "cell_type": "code",
   "execution_count": 1,
   "id": "b384190c",
   "metadata": {},
   "outputs": [
    {
     "name": "stdout",
     "output_type": "stream",
     "text": [
      " Volume in drive C is Acer\n",
      " Volume Serial Number is D812-1956\n",
      "\n",
      " Directory of C:\\Code Playground\\Palmprintdetection_project\n",
      "\n",
      "14-04-2023  16:52    <DIR>          .\n",
      "04-04-2023  21:06    <DIR>          ..\n",
      "05-02-2023  14:48    <DIR>          .ipynb_checkpoints\n",
      "02-02-2023  17:09                23 .jovianrc\n",
      "14-11-2022  01:49           655,831 9939-Article Text-17682-1-10-20210714.pdf\n",
      "23-01-2023  20:33    <DIR>          dataset\n",
      "14-04-2023  16:49            51,775 PalmPrint Detection model optimized data.ipynb\n",
      "27-01-2023  20:10            43,311 PalmPrint Detection model.ipynb\n",
      "25-01-2023  00:01    <DIR>          Palmprint_detection_guass.model\n",
      "05-02-2023  16:09    <DIR>          Palmprint_detection_guass_optimzed.model\n",
      "24-01-2023  23:49    <DIR>          Palmprint_detection_meanth.model\n",
      "05-02-2023  15:57    <DIR>          Palmprint_detection_meanth_optimized.model\n",
      "14-04-2023  16:52         2,316,194 Preprocessing_dataset.ipynb\n",
      "27-01-2023  19:52         3,016,443 test_img.jpg\n",
      "14-04-2023  16:49        14,440,167 X_guass.pickle\n",
      "14-04-2023  16:51       128,660,568 X_GuassThresholding.pickle\n",
      "14-04-2023  16:49        14,440,167 X_meanth.pickle\n",
      "14-04-2023  16:51       128,660,568 X_MeanThresholding.pickle\n",
      "14-04-2023  16:49             1,595 y_guass.pickle\n",
      "14-04-2023  16:51             8,815 y_GuassThresholding.pickle\n",
      "14-04-2023  16:49             1,595 y_meanth.pickle\n",
      "14-04-2023  16:51             8,815 y_MeanThresholding.pickle\n",
      "              14 File(s)    292,305,867 bytes\n",
      "               8 Dir(s)  239,310,753,792 bytes free\n"
     ]
    }
   ],
   "source": [
    "!dir"
   ]
  },
  {
   "cell_type": "code",
   "execution_count": 2,
   "id": "8ca01d83",
   "metadata": {},
   "outputs": [],
   "source": [
    "import numpy as np\n",
    "import pandas as pd\n",
    "import matplotlib.pyplot as plt\n",
    "import pickle\n",
    "import os\n",
    "import cv2 as cv\n",
    "import re \n",
    "from collections import Counter\n",
    "import tensorflow as tf\n",
    "from tensorflow.keras.layers import Dense,Activation,Flatten,Conv2D,MaxPooling2D\n",
    "from tensorflow.keras.models import Sequential\n",
    "from sklearn.model_selection import train_test_split"
   ]
  },
  {
   "cell_type": "code",
   "execution_count": 3,
   "id": "474b8961",
   "metadata": {},
   "outputs": [
    {
     "data": {
      "text/plain": [
       "[PhysicalDevice(name='/physical_device:CPU:0', device_type='CPU')]"
      ]
     },
     "execution_count": 3,
     "metadata": {},
     "output_type": "execute_result"
    }
   ],
   "source": [
    "tf.config.list_physical_devices()"
   ]
  },
  {
   "cell_type": "code",
   "execution_count": 4,
   "id": "49b1115f",
   "metadata": {},
   "outputs": [],
   "source": [
    "#Meanth data\n",
    "pickle_in=open(\"X_MeanThresholding.pickle\",\"rb\")\n",
    "X_meanth=pickle.load(pickle_in)\n",
    "pickle_in.close()\n",
    "pickle_in=open(\"y_MeanThresholding.pickle\",\"rb\")\n",
    "y_meanth=pickle.load(pickle_in)\n",
    "pickle_in.close()"
   ]
  },
  {
   "cell_type": "code",
   "execution_count": 5,
   "id": "fffa2723",
   "metadata": {},
   "outputs": [
    {
     "data": {
      "text/plain": [
       "(2166, 220, 270, 1)"
      ]
     },
     "execution_count": 5,
     "metadata": {},
     "output_type": "execute_result"
    }
   ],
   "source": [
    "X_meanth.shape"
   ]
  },
  {
   "cell_type": "code",
   "execution_count": 6,
   "id": "3c5d9828",
   "metadata": {},
   "outputs": [
    {
     "data": {
      "text/plain": [
       "(2166,)"
      ]
     },
     "execution_count": 6,
     "metadata": {},
     "output_type": "execute_result"
    }
   ],
   "source": [
    "y_meanth.shape"
   ]
  },
  {
   "cell_type": "code",
   "execution_count": 7,
   "id": "e5cfaddf",
   "metadata": {},
   "outputs": [
    {
     "data": {
      "text/plain": [
       "2166"
      ]
     },
     "execution_count": 7,
     "metadata": {},
     "output_type": "execute_result"
    }
   ],
   "source": [
    "len(X_meanth)"
   ]
  },
  {
   "cell_type": "code",
   "execution_count": 8,
   "id": "c5150ec4",
   "metadata": {},
   "outputs": [
    {
     "data": {
      "text/plain": [
       "2166"
      ]
     },
     "execution_count": 8,
     "metadata": {},
     "output_type": "execute_result"
    }
   ],
   "source": [
    "len(y_meanth)"
   ]
  },
  {
   "cell_type": "code",
   "execution_count": 9,
   "id": "4cedc14c",
   "metadata": {},
   "outputs": [],
   "source": [
    "Xmtrain,Xmtest,ymtrain,ymtest=train_test_split(X_meanth,y_meanth,test_size=0.2,random_state=42)"
   ]
  },
  {
   "cell_type": "code",
   "execution_count": 10,
   "id": "5c8950c8",
   "metadata": {},
   "outputs": [
    {
     "name": "stdout",
     "output_type": "stream",
     "text": [
      "1732 434 1732 434\n"
     ]
    }
   ],
   "source": [
    "print(len(Xmtrain),len(Xmtest),len(ymtrain),len(ymtest))"
   ]
  },
  {
   "cell_type": "code",
   "execution_count": 11,
   "id": "0cdda594",
   "metadata": {},
   "outputs": [
    {
     "data": {
      "text/plain": [
       "dtype('int32')"
      ]
     },
     "execution_count": 11,
     "metadata": {},
     "output_type": "execute_result"
    }
   ],
   "source": [
    "type(Xmtrain)\n",
    "type(ymtrain)\n",
    "ymtrain.dtype"
   ]
  },
  {
   "cell_type": "code",
   "execution_count": 12,
   "id": "db3cd4ef",
   "metadata": {},
   "outputs": [],
   "source": [
    "from keras.optimizers import Adam\n",
    "\n",
    "model = Sequential()\n",
    "\n",
    "# Add the first layer (convolutional layer)\n",
    "model.add(Conv2D(filters=32, kernel_size=(3,3), padding='same', activation='relu',input_shape=Xmtrain.shape[1:]))\n",
    "\n",
    "# Add the second layer (max pooling layer)\n",
    "model.add(MaxPooling2D(pool_size=(2, 2), strides=2))\n",
    "\n",
    "# Add the third layer (convolutional layer)\n",
    "model.add(Conv2D(filters=64, kernel_size=(3,3), padding='same', activation='relu',input_shape=Xmtrain.shape[1:]))\n",
    "\n",
    "# Add the forth layer (max pooling layer)\n",
    "model.add(MaxPooling2D(pool_size=(2, 2), strides=2))\n",
    "\n",
    "# Add the fifth layer (flatten layer)\n",
    "model.add(Flatten())\n",
    "\n",
    "# Add the output layer\n",
    "model.add(Dense(12, activation='softmax'))\n",
    "\n",
    "# Compile the model\n",
    "# optimizer = Adam(learning_rate=0.00001)\n",
    "model.compile(optimizer='adam', loss='sparse_categorical_crossentropy', metrics=['accuracy'])\n",
    "\n",
    "\n",
    "# model.fit(Xmtrain,ymtrain,epochs=4,validation_split=0.1)"
   ]
  },
  {
   "cell_type": "code",
   "execution_count": 13,
   "id": "0d7ff829",
   "metadata": {},
   "outputs": [
    {
     "name": "stdout",
     "output_type": "stream",
     "text": [
      "Epoch 1/4\n",
      "49/49 [==============================] - 40s 803ms/step - loss: 449.0456 - accuracy: 0.2606 - val_loss: 1.5445 - val_accuracy: 0.5345\n",
      "Epoch 2/4\n",
      "49/49 [==============================] - 41s 835ms/step - loss: 0.3328 - accuracy: 0.9166 - val_loss: 0.8223 - val_accuracy: 0.7874\n",
      "Epoch 3/4\n",
      "49/49 [==============================] - 39s 792ms/step - loss: 0.0352 - accuracy: 0.9936 - val_loss: 0.8092 - val_accuracy: 0.7989\n",
      "Epoch 4/4\n",
      "49/49 [==============================] - 36s 735ms/step - loss: 0.0156 - accuracy: 0.9987 - val_loss: 0.9746 - val_accuracy: 0.7874\n"
     ]
    },
    {
     "data": {
      "text/plain": [
       "<keras.callbacks.History at 0x19fcce81240>"
      ]
     },
     "execution_count": 13,
     "metadata": {},
     "output_type": "execute_result"
    }
   ],
   "source": [
    "model.fit(Xmtrain,ymtrain,epochs=4,validation_split=0.1)"
   ]
  },
  {
   "cell_type": "code",
   "execution_count": null,
   "id": "4012e45f",
   "metadata": {},
   "outputs": [],
   "source": [
    "np.array(list(map(np.argmax,model.predict(Xmtest))))"
   ]
  },
  {
   "cell_type": "code",
   "execution_count": 13,
   "id": "0b922dc2",
   "metadata": {},
   "outputs": [
    {
     "data": {
      "text/plain": [
       "array([ 9,  5,  4,  9,  8, 10,  2,  0,  5,  2,  7,  3,  9, 10,  2, 10,  2,\n",
       "        5,  0,  3,  8,  6,  3,  5, 10,  1,  8,  9,  6,  2,  7,  6,  3,  0,\n",
       "        8,  2,  9, 10, 11,  1,  6, 10,  6,  3,  2,  1, 11, 10,  7,  8,  6,\n",
       "        7,  3,  9,  3,  6,  9,  9,  3, 11,  0,  0,  4,  5,  3,  0,  0,  0,\n",
       "       10,  6,  9,  3,  0,  3,  4,  9,  9,  4, 10,  0,  9, 11,  7, 11,  7,\n",
       "        7, 11,  1,  2,  2,  6,  0,  3,  6, 10,  7,  1,  3,  2,  9,  4,  1,\n",
       "        8,  6, 10,  0,  6, 10,  5,  5,  5,  9,  9,  0,  8,  0,  1, 10,  8,\n",
       "        4,  4,  1,  9, 11,  3,  7, 10,  4,  2, 10, 11,  4,  6,  9,  2,  6,\n",
       "        9,  5,  0, 11, 11,  2,  3,  1,  0,  9,  9, 10,  9,  1,  2,  7,  1,\n",
       "        6,  7, 11, 11,  3,  4,  2, 10, 10,  6,  3, 11,  0,  2,  4,  9,  0,\n",
       "        4,  7,  0,  3,  6,  3,  9, 11,  2,  2,  3,  5,  7,  2,  0,  3,  6,\n",
       "        4,  4,  1,  1,  7,  3,  0, 10,  7,  6,  1,  0,  6,  7,  3,  5,  4,\n",
       "        4,  3,  6,  2,  7,  7,  9,  5, 10,  6,  8,  6,  2,  2,  2,  9, 11,\n",
       "        1,  9,  1,  9, 10,  3,  2,  3,  8,  3,  6,  6, 11,  9,  2,  1,  3,\n",
       "        7,  1, 10, 11,  3,  5,  3,  2,  6,  5,  1, 11,  5,  0,  4, 11,  5,\n",
       "        3,  5,  3,  1,  4,  0,  7,  4,  7,  1,  5, 10,  3,  5,  4, 11,  8,\n",
       "        9,  2, 11,  3,  9,  2,  4,  9,  5,  7, 11,  5,  8, 10, 10, 11,  2,\n",
       "        6,  2,  1,  8,  8,  3,  1,  5,  3, 11,  5,  7,  5,  8,  5, 10,  1,\n",
       "        7,  9,  4,  9,  1,  6,  8,  8,  7,  8, 10,  2,  2,  7,  4,  0,  9,\n",
       "        6,  8,  8, 11, 11,  4,  3,  7,  1,  4,  0,  7, 11, 10,  8, 11,  9,\n",
       "        8,  2,  8,  1,  1, 10, 11, 11,  2,  2, 11,  9, 11,  5,  8,  3,  3,\n",
       "        9,  9,  4, 11,  3,  1, 11, 10, 10,  1,  3,  6, 10,  0,  5,  3, 10,\n",
       "        7,  3,  7,  7, 11, 10, 11,  3, 10,  4,  3,  6, 10, 11,  7,  7, 11,\n",
       "        7,  0,  2,  2,  0,  1, 10,  3,  0,  7,  4,  2,  2,  0,  2, 10,  4,\n",
       "        9,  8,  4,  5,  6,  6,  1, 11,  1,  1,  1,  4,  8,  7,  6,  4,  7,\n",
       "        4,  1,  9,  8,  9,  6, 11, 10,  5])"
      ]
     },
     "execution_count": 13,
     "metadata": {},
     "output_type": "execute_result"
    }
   ],
   "source": [
    "ymtest"
   ]
  },
  {
   "cell_type": "code",
   "execution_count": 83,
   "id": "43d7fa3e",
   "metadata": {},
   "outputs": [
    {
     "name": "stdout",
     "output_type": "stream",
     "text": [
      "Model: \"sequential_6\"\n",
      "_________________________________________________________________\n",
      " Layer (type)                Output Shape              Param #   \n",
      "=================================================================\n",
      " conv2d_12 (Conv2D)          (None, 220, 270, 32)      320       \n",
      "                                                                 \n",
      " max_pooling2d_12 (MaxPoolin  (None, 110, 135, 32)     0         \n",
      " g2D)                                                            \n",
      "                                                                 \n",
      " conv2d_13 (Conv2D)          (None, 110, 135, 64)      18496     \n",
      "                                                                 \n",
      " max_pooling2d_13 (MaxPoolin  (None, 55, 67, 64)       0         \n",
      " g2D)                                                            \n",
      "                                                                 \n",
      " flatten_6 (Flatten)         (None, 235840)            0         \n",
      "                                                                 \n",
      " dense_6 (Dense)             (None, 12)                2830092   \n",
      "                                                                 \n",
      "=================================================================\n",
      "Total params: 2,848,908\n",
      "Trainable params: 2,848,908\n",
      "Non-trainable params: 0\n",
      "_________________________________________________________________\n"
     ]
    }
   ],
   "source": [
    "model.summary()"
   ]
  },
  {
   "cell_type": "code",
   "execution_count": 21,
   "id": "f1558f91",
   "metadata": {},
   "outputs": [
    {
     "data": {
      "text/plain": [
       "434"
      ]
     },
     "execution_count": 21,
     "metadata": {},
     "output_type": "execute_result"
    }
   ],
   "source": [
    "# from sklearn.metrics import r2_score\n",
    "# r2_score(ymtest,model.predict(Xmtest))\n",
    "len(Xmtest)"
   ]
  },
  {
   "cell_type": "code",
   "execution_count": 22,
   "id": "237931d5",
   "metadata": {},
   "outputs": [
    {
     "data": {
      "text/plain": [
       "434"
      ]
     },
     "execution_count": 22,
     "metadata": {},
     "output_type": "execute_result"
    }
   ],
   "source": [
    "len(ymtest)"
   ]
  },
  {
   "cell_type": "code",
   "execution_count": 84,
   "id": "5f8d772f",
   "metadata": {},
   "outputs": [
    {
     "name": "stderr",
     "output_type": "stream",
     "text": [
      "WARNING:absl:Found untraced functions such as _jit_compiled_convolution_op, _jit_compiled_convolution_op, _update_step_xla while saving (showing 3 of 3). These functions will not be directly callable after loading.\n"
     ]
    },
    {
     "name": "stdout",
     "output_type": "stream",
     "text": [
      "INFO:tensorflow:Assets written to: Palmprint_detection_meanth_optimized.model\\assets\n"
     ]
    },
    {
     "name": "stderr",
     "output_type": "stream",
     "text": [
      "INFO:tensorflow:Assets written to: Palmprint_detection_meanth_optimized.model\\assets\n"
     ]
    }
   ],
   "source": [
    "model.save(\"Palmprint_detection_meanth_optimized.model\")"
   ]
  },
  {
   "cell_type": "code",
   "execution_count": 24,
   "id": "fb7e3982",
   "metadata": {},
   "outputs": [],
   "source": [
    "pickle_in=open(\"X_GuassThresholding.pickle\",\"rb\")\n",
    "X_guass=pickle.load(pickle_in)\n",
    "pickle_in.close()\n",
    "pickle_in=open(\"y_GuassThresholding.pickle\",\"rb\")\n",
    "y_guass=pickle.load(pickle_in)\n",
    "pickle_in.close()"
   ]
  },
  {
   "cell_type": "code",
   "execution_count": 25,
   "id": "66842fcd",
   "metadata": {},
   "outputs": [
    {
     "data": {
      "text/plain": [
       "(2166, 220, 270, 1)"
      ]
     },
     "execution_count": 25,
     "metadata": {},
     "output_type": "execute_result"
    }
   ],
   "source": [
    "X_guass.shape"
   ]
  },
  {
   "cell_type": "code",
   "execution_count": 26,
   "id": "3541b7e8",
   "metadata": {},
   "outputs": [
    {
     "data": {
      "text/plain": [
       "(2166,)"
      ]
     },
     "execution_count": 26,
     "metadata": {},
     "output_type": "execute_result"
    }
   ],
   "source": [
    "y_guass.shape"
   ]
  },
  {
   "cell_type": "code",
   "execution_count": 27,
   "id": "c3bc4d18",
   "metadata": {},
   "outputs": [
    {
     "data": {
      "text/plain": [
       "array([[[[255],\n",
       "         [255],\n",
       "         [255],\n",
       "         ...,\n",
       "         [255],\n",
       "         [255],\n",
       "         [255]],\n",
       "\n",
       "        [[  0],\n",
       "         [  0],\n",
       "         [255],\n",
       "         ...,\n",
       "         [255],\n",
       "         [255],\n",
       "         [255]],\n",
       "\n",
       "        [[  0],\n",
       "         [  0],\n",
       "         [  0],\n",
       "         ...,\n",
       "         [255],\n",
       "         [255],\n",
       "         [255]],\n",
       "\n",
       "        ...,\n",
       "\n",
       "        [[  0],\n",
       "         [  0],\n",
       "         [  0],\n",
       "         ...,\n",
       "         [  0],\n",
       "         [  0],\n",
       "         [  0]],\n",
       "\n",
       "        [[255],\n",
       "         [255],\n",
       "         [255],\n",
       "         ...,\n",
       "         [  0],\n",
       "         [  0],\n",
       "         [  0]],\n",
       "\n",
       "        [[255],\n",
       "         [255],\n",
       "         [255],\n",
       "         ...,\n",
       "         [  0],\n",
       "         [  0],\n",
       "         [  0]]],\n",
       "\n",
       "\n",
       "       [[[  0],\n",
       "         [  0],\n",
       "         [255],\n",
       "         ...,\n",
       "         [255],\n",
       "         [255],\n",
       "         [255]],\n",
       "\n",
       "        [[  0],\n",
       "         [  0],\n",
       "         [255],\n",
       "         ...,\n",
       "         [255],\n",
       "         [255],\n",
       "         [255]],\n",
       "\n",
       "        [[  0],\n",
       "         [  0],\n",
       "         [255],\n",
       "         ...,\n",
       "         [255],\n",
       "         [255],\n",
       "         [255]],\n",
       "\n",
       "        ...,\n",
       "\n",
       "        [[255],\n",
       "         [255],\n",
       "         [255],\n",
       "         ...,\n",
       "         [255],\n",
       "         [255],\n",
       "         [255]],\n",
       "\n",
       "        [[255],\n",
       "         [255],\n",
       "         [255],\n",
       "         ...,\n",
       "         [255],\n",
       "         [255],\n",
       "         [255]],\n",
       "\n",
       "        [[255],\n",
       "         [255],\n",
       "         [255],\n",
       "         ...,\n",
       "         [255],\n",
       "         [255],\n",
       "         [255]]],\n",
       "\n",
       "\n",
       "       [[[255],\n",
       "         [255],\n",
       "         [255],\n",
       "         ...,\n",
       "         [255],\n",
       "         [255],\n",
       "         [255]],\n",
       "\n",
       "        [[255],\n",
       "         [255],\n",
       "         [255],\n",
       "         ...,\n",
       "         [255],\n",
       "         [255],\n",
       "         [255]],\n",
       "\n",
       "        [[255],\n",
       "         [255],\n",
       "         [255],\n",
       "         ...,\n",
       "         [255],\n",
       "         [255],\n",
       "         [255]],\n",
       "\n",
       "        ...,\n",
       "\n",
       "        [[255],\n",
       "         [255],\n",
       "         [255],\n",
       "         ...,\n",
       "         [255],\n",
       "         [255],\n",
       "         [255]],\n",
       "\n",
       "        [[255],\n",
       "         [255],\n",
       "         [255],\n",
       "         ...,\n",
       "         [255],\n",
       "         [255],\n",
       "         [255]],\n",
       "\n",
       "        [[255],\n",
       "         [255],\n",
       "         [255],\n",
       "         ...,\n",
       "         [255],\n",
       "         [255],\n",
       "         [255]]],\n",
       "\n",
       "\n",
       "       ...,\n",
       "\n",
       "\n",
       "       [[[255],\n",
       "         [255],\n",
       "         [255],\n",
       "         ...,\n",
       "         [  0],\n",
       "         [  0],\n",
       "         [255]],\n",
       "\n",
       "        [[255],\n",
       "         [  0],\n",
       "         [  0],\n",
       "         ...,\n",
       "         [  0],\n",
       "         [  0],\n",
       "         [  0]],\n",
       "\n",
       "        [[  0],\n",
       "         [  0],\n",
       "         [  0],\n",
       "         ...,\n",
       "         [  0],\n",
       "         [  0],\n",
       "         [  0]],\n",
       "\n",
       "        ...,\n",
       "\n",
       "        [[  0],\n",
       "         [  0],\n",
       "         [  0],\n",
       "         ...,\n",
       "         [  0],\n",
       "         [  0],\n",
       "         [255]],\n",
       "\n",
       "        [[255],\n",
       "         [255],\n",
       "         [255],\n",
       "         ...,\n",
       "         [255],\n",
       "         [255],\n",
       "         [255]],\n",
       "\n",
       "        [[255],\n",
       "         [255],\n",
       "         [255],\n",
       "         ...,\n",
       "         [255],\n",
       "         [255],\n",
       "         [255]]],\n",
       "\n",
       "\n",
       "       [[[255],\n",
       "         [255],\n",
       "         [255],\n",
       "         ...,\n",
       "         [255],\n",
       "         [255],\n",
       "         [255]],\n",
       "\n",
       "        [[255],\n",
       "         [255],\n",
       "         [255],\n",
       "         ...,\n",
       "         [255],\n",
       "         [255],\n",
       "         [255]],\n",
       "\n",
       "        [[255],\n",
       "         [255],\n",
       "         [255],\n",
       "         ...,\n",
       "         [255],\n",
       "         [255],\n",
       "         [255]],\n",
       "\n",
       "        ...,\n",
       "\n",
       "        [[255],\n",
       "         [255],\n",
       "         [255],\n",
       "         ...,\n",
       "         [255],\n",
       "         [255],\n",
       "         [255]],\n",
       "\n",
       "        [[255],\n",
       "         [255],\n",
       "         [255],\n",
       "         ...,\n",
       "         [255],\n",
       "         [255],\n",
       "         [255]],\n",
       "\n",
       "        [[255],\n",
       "         [255],\n",
       "         [255],\n",
       "         ...,\n",
       "         [255],\n",
       "         [255],\n",
       "         [255]]],\n",
       "\n",
       "\n",
       "       [[[255],\n",
       "         [255],\n",
       "         [255],\n",
       "         ...,\n",
       "         [255],\n",
       "         [255],\n",
       "         [255]],\n",
       "\n",
       "        [[255],\n",
       "         [255],\n",
       "         [255],\n",
       "         ...,\n",
       "         [255],\n",
       "         [255],\n",
       "         [255]],\n",
       "\n",
       "        [[255],\n",
       "         [255],\n",
       "         [255],\n",
       "         ...,\n",
       "         [255],\n",
       "         [255],\n",
       "         [255]],\n",
       "\n",
       "        ...,\n",
       "\n",
       "        [[255],\n",
       "         [255],\n",
       "         [255],\n",
       "         ...,\n",
       "         [255],\n",
       "         [255],\n",
       "         [255]],\n",
       "\n",
       "        [[255],\n",
       "         [255],\n",
       "         [255],\n",
       "         ...,\n",
       "         [255],\n",
       "         [255],\n",
       "         [255]],\n",
       "\n",
       "        [[255],\n",
       "         [255],\n",
       "         [255],\n",
       "         ...,\n",
       "         [255],\n",
       "         [255],\n",
       "         [255]]]], dtype=uint8)"
      ]
     },
     "execution_count": 27,
     "metadata": {},
     "output_type": "execute_result"
    }
   ],
   "source": [
    "X_guass"
   ]
  },
  {
   "cell_type": "code",
   "execution_count": 28,
   "id": "b87823a3",
   "metadata": {},
   "outputs": [
    {
     "data": {
      "text/plain": [
       "array([ 8,  7, 11, ...,  6,  4,  3])"
      ]
     },
     "execution_count": 28,
     "metadata": {},
     "output_type": "execute_result"
    }
   ],
   "source": [
    "y_guass"
   ]
  },
  {
   "cell_type": "code",
   "execution_count": 29,
   "id": "0450a6b2",
   "metadata": {},
   "outputs": [],
   "source": [
    "Xgtrain,Xgtest,ygtrain,ygtest=train_test_split(X_guass,y_guass,test_size=0.2,random_state=42)"
   ]
  },
  {
   "cell_type": "code",
   "execution_count": 30,
   "id": "1d3c97ba",
   "metadata": {},
   "outputs": [
    {
     "name": "stdout",
     "output_type": "stream",
     "text": [
      "1732 434 1732 434\n"
     ]
    }
   ],
   "source": [
    "print(len(Xgtrain),len(Xgtest),len(ygtrain),len(ygtest))"
   ]
  },
  {
   "cell_type": "code",
   "execution_count": 90,
   "id": "88aca276",
   "metadata": {},
   "outputs": [
    {
     "name": "stdout",
     "output_type": "stream",
     "text": [
      "Epoch 1/3\n",
      "49/49 [==============================] - 44s 878ms/step - loss: 587.7504 - accuracy: 0.1502 - val_loss: 2.3118 - val_accuracy: 0.2471\n",
      "Epoch 2/3\n",
      "49/49 [==============================] - 41s 843ms/step - loss: 0.8205 - accuracy: 0.7606 - val_loss: 1.0117 - val_accuracy: 0.7529\n",
      "Epoch 3/3\n",
      "49/49 [==============================] - 42s 861ms/step - loss: 0.0546 - accuracy: 0.9884 - val_loss: 0.7663 - val_accuracy: 0.8046\n"
     ]
    },
    {
     "data": {
      "text/plain": [
       "<keras.callbacks.History at 0x17da4eca320>"
      ]
     },
     "execution_count": 90,
     "metadata": {},
     "output_type": "execute_result"
    }
   ],
   "source": [
    "from keras.optimizers import Adam\n",
    "\n",
    "modelGuass = Sequential()\n",
    "\n",
    "# Add the first layer (convolutional layer)\n",
    "modelGuass.add(Conv2D(filters=32, kernel_size=(3,3), padding='same', activation='relu',input_shape=Xgtrain.shape[1:]))\n",
    "\n",
    "# Add the second layer (max pooling layer)\n",
    "modelGuass.add(MaxPooling2D(pool_size=(2, 2), strides=2))\n",
    "\n",
    "# Add the third layer (convolutional layer)\n",
    "modelGuass.add(Conv2D(filters=64, kernel_size=(3,3), padding='same', activation='relu',input_shape=Xgtrain.shape[1:]))\n",
    "\n",
    "# Add the forth layer (max pooling layer)\n",
    "modelGuass.add(MaxPooling2D(pool_size=(2, 2), strides=2))\n",
    "\n",
    "# Add the fifth layer (flatten layer)\n",
    "modelGuass.add(Flatten())\n",
    "\n",
    "# Add the output layer\n",
    "modelGuass.add(Dense(12, activation='softmax'))\n",
    "\n",
    "# Compile the model\n",
    "# optimizer = Adam(learning_rate=0.00001)\n",
    "modelGuass.compile(optimizer='adam', loss='sparse_categorical_crossentropy', metrics=['accuracy'])\n",
    "\n",
    "\n",
    "modelGuass.fit(Xgtrain,ygtrain,epochs=3,validation_split=0.1)"
   ]
  },
  {
   "cell_type": "code",
   "execution_count": 91,
   "id": "3d76e5f4",
   "metadata": {},
   "outputs": [
    {
     "name": "stdout",
     "output_type": "stream",
     "text": [
      "14/14 [==============================] - 3s 210ms/step\n"
     ]
    },
    {
     "data": {
      "text/plain": [
       "array([ 3, 11,  8,  3,  7,  5,  5,  1,  1,  0,  7,  0,  5, 10,  2,  9,  2,\n",
       "       10,  8, 11,  0,  2,  9,  1,  2,  7, 11, 11,  7,  7,  2,  1,  6,  9,\n",
       "        4,  2,  8,  5,  3,  5,  1,  8,  0,  7, 10,  8,  3,  7,  2,  6,  4,\n",
       "       10,  6,  5, 11,  8,  2,  3,  3,  0,  9,  2,  8,  3, 11,  3,  8,  7,\n",
       "        6,  1,  1,  8,  7,  2,  4,  2,  0,  3,  2,  2,  9, 10,  6,  2,  5,\n",
       "        2, 11,  1,  0,  2, 10,  3, 11,  9,  7, 11, 11,  2,  0,  6,  8,  0,\n",
       "       10,  5,  2,  4, 11,  6,  4, 10,  8,  0,  9,  5, 11,  7,  5,  4,  1,\n",
       "        9,  4,  2,  8,  8, 11,  4, 10,  1,  8,  3,  8,  2,  2,  9,  0,  0,\n",
       "        7,  1,  0,  3,  3,  8,  2, 10,  6,  1,  4,  9,  5, 10,  1,  0,  6,\n",
       "        9,  2,  7, 11,  9,  1,  7,  8, 11,  2,  4,  5,  9,  3,  8,  1,  4,\n",
       "       11,  3,  1, 11,  7,  0,  6,  3,  6,  2,  1,  1,  1,  6,  2,  4,  2,\n",
       "        3, 11,  1,  1, 10, 11,  2,  1,  3,  1,  7,  9, 11,  2,  9,  1,  7,\n",
       "        6,  9,  8,  7,  7,  2,  3,  3, 10,  0, 11,  6,  6,  0,  6,  5,  2,\n",
       "        8,  7,  3,  1,  5,  8,  6, 10, 11,  2, 11,  1,  5,  8,  8,  9,  1,\n",
       "       11, 10, 10,  3,  4,  5,  9, 11, 11,  9,  3,  4,  4,  2,  9, 10, 10,\n",
       "        7,  2,  8,  1,  3,  9,  5,  9,  3,  6,  9,  0,  9, 11,  2,  2,  1,\n",
       "        0,  6,  1, 11,  5, 11, 11, 11,  4,  0,  5,  5,  8,  7,  2,  6,  1,\n",
       "        2,  6,  4,  3,  7,  7,  5,  7,  0,  0,  4,  6,  0, 10,  3,  5,  0,\n",
       "        6, 10,  1, 11, 11,  9,  2,  9,  3,  3,  2,  0,  6,  0,  5,  7,  7,\n",
       "       11,  9, 10, 10, 10,  7,  3,  4,  9,  2,  3,  2,  6, 10,  0,  7,  8,\n",
       "       10,  3, 11,  0,  3,  6,  2,  6,  7,  4,  9,  1, 10,  2,  7,  9,  7,\n",
       "        4,  9,  6,  7,  7,  7,  8,  0,  2,  6,  1,  8,  2,  4,  9,  0,  7,\n",
       "       11,  8,  9,  4,  8,  3,  2,  8,  4,  8,  3,  0,  0,  6, 10,  4, 11,\n",
       "        5,  0,  6,  6,  5,  7,  2,  5,  1,  9,  5,  2,  0,  0,  3,  0,  1,\n",
       "       10,  9,  9,  9, 11,  5,  0,  4,  5,  4,  6,  9,  5, 10,  9,  6,  3,\n",
       "        1,  9,  2,  2,  3, 10,  2,  7,  8], dtype=int64)"
      ]
     },
     "execution_count": 91,
     "metadata": {},
     "output_type": "execute_result"
    }
   ],
   "source": [
    "np.array(list(map(np.argmax,modelGuass.predict(Xgtest)))).reshape(-1)"
   ]
  },
  {
   "cell_type": "code",
   "execution_count": 36,
   "id": "75c6e73e",
   "metadata": {},
   "outputs": [
    {
     "data": {
      "text/plain": [
       "array([11, 11,  8,  1,  7,  5,  5,  1,  1,  2,  7,  0,  5,  9,  2,  9,  2,\n",
       "        6,  8, 11,  0,  3,  9,  1,  2,  7, 11, 11,  7,  7,  5,  1,  6,  9,\n",
       "        4,  2,  8,  0,  3,  5,  4,  0,  2,  8, 10,  8,  3,  7,  2,  6,  4,\n",
       "       10,  6, 10, 11,  0,  2,  3,  3,  0,  9,  2,  8,  3, 11,  3,  8,  5,\n",
       "        6,  6,  1,  8,  7,  2,  4,  2,  0,  0,  5,  2,  9, 10,  5,  2,  4,\n",
       "        2, 11,  1,  0,  2,  7,  3, 11,  9,  3,  7, 11,  2,  1,  6,  8,  0,\n",
       "       10,  5,  2,  4, 11,  6,  4, 10,  8,  0,  9,  7, 11,  7,  5,  4,  1,\n",
       "        9,  4,  5,  8,  9, 11,  4, 10,  1,  8,  4,  8, 10,  2,  9,  0,  0,\n",
       "        7,  1,  0,  3,  3,  8,  2, 11,  6,  1,  4,  9,  5, 10,  1,  0,  4,\n",
       "        9,  2,  7, 11,  6,  1,  7,  8, 11,  2,  4, 10, 10,  3,  8,  6,  4,\n",
       "       11,  3,  1, 11,  5,  0,  6,  3,  6,  2,  1,  1,  1,  1,  2,  4,  8,\n",
       "        3, 11,  8,  1,  1, 11,  2,  1,  3,  8,  7,  0, 11,  2,  9,  6,  7,\n",
       "        4,  9,  8,  7,  7,  2,  3,  3, 10,  5,  6,  6,  6,  0,  6,  5,  2,\n",
       "        8, 11,  3,  1,  5,  8,  6,  1, 11, 11, 11,  1,  5,  5,  3,  9,  1,\n",
       "        0, 10, 10,  3,  4,  5, 10, 11, 11,  9,  3,  4,  4,  4,  9,  0, 10,\n",
       "        7,  2,  8,  1,  3,  5,  5,  9,  3,  6,  9,  7,  9, 11,  2,  2,  1,\n",
       "        0,  6,  1, 11,  5, 11, 11,  0,  5,  0,  5, 11,  8,  7,  3,  6,  6,\n",
       "        2,  6,  4, 11,  4,  5,  2,  7,  8,  3,  6,  6,  2, 10,  3,  5,  1,\n",
       "        0, 10,  1, 11, 11, 10,  5,  9,  3,  3,  3,  1,  4,  0,  5, 11,  7,\n",
       "       11,  9, 10, 10, 10,  7,  6,  4,  9,  2,  3,  2,  6, 10,  0,  7,  8,\n",
       "        3, 10, 11,  0,  3,  6,  2,  5,  7,  4,  9,  1, 10,  2,  7,  9,  6,\n",
       "        4,  9,  7,  7,  7,  6,  8,  0,  0,  6,  1,  8,  2,  4,  9,  0,  7,\n",
       "       11,  8,  9,  4,  8,  3,  2,  8,  4,  8,  3,  4,  0,  6, 11,  4, 11,\n",
       "        5,  8,  6,  6,  5,  7,  2,  5,  1,  9,  5,  4,  8, 11,  4,  0,  2,\n",
       "        2,  9,  9,  9, 11, 11,  1,  4,  1,  4,  5,  8,  5, 10, 10,  0,  3,\n",
       "        3,  9,  2,  6,  3, 10,  2,  3,  8])"
      ]
     },
     "execution_count": 36,
     "metadata": {},
     "output_type": "execute_result"
    }
   ],
   "source": [
    "ygtest"
   ]
  },
  {
   "cell_type": "code",
   "execution_count": 67,
   "id": "bf227c4a",
   "metadata": {},
   "outputs": [
    {
     "name": "stdout",
     "output_type": "stream",
     "text": [
      "Model: \"sequential_16\"\n",
      "_________________________________________________________________\n",
      " Layer (type)                Output Shape              Param #   \n",
      "=================================================================\n",
      " conv2d_32 (Conv2D)          (None, 200, 200, 32)      320       \n",
      "                                                                 \n",
      " max_pooling2d_32 (MaxPoolin  (None, 100, 100, 32)     0         \n",
      " g2D)                                                            \n",
      "                                                                 \n",
      " conv2d_33 (Conv2D)          (None, 100, 100, 64)      18496     \n",
      "                                                                 \n",
      " max_pooling2d_33 (MaxPoolin  (None, 50, 50, 64)       0         \n",
      " g2D)                                                            \n",
      "                                                                 \n",
      " flatten_16 (Flatten)        (None, 160000)            0         \n",
      "                                                                 \n",
      " dense_16 (Dense)            (None, 12)                1920012   \n",
      "                                                                 \n",
      "=================================================================\n",
      "Total params: 1,938,828\n",
      "Trainable params: 1,938,828\n",
      "Non-trainable params: 0\n",
      "_________________________________________________________________\n"
     ]
    }
   ],
   "source": [
    "modelGuass.summary()"
   ]
  },
  {
   "cell_type": "code",
   "execution_count": 92,
   "id": "c93b5022",
   "metadata": {},
   "outputs": [
    {
     "name": "stderr",
     "output_type": "stream",
     "text": [
      "WARNING:absl:Found untraced functions such as _jit_compiled_convolution_op, _jit_compiled_convolution_op, _update_step_xla while saving (showing 3 of 3). These functions will not be directly callable after loading.\n"
     ]
    },
    {
     "name": "stdout",
     "output_type": "stream",
     "text": [
      "INFO:tensorflow:Assets written to: Palmprint_detection_guass_optimzed.model\\assets\n"
     ]
    },
    {
     "name": "stderr",
     "output_type": "stream",
     "text": [
      "INFO:tensorflow:Assets written to: Palmprint_detection_guass_optimzed.model\\assets\n"
     ]
    }
   ],
   "source": [
    "modelGuass.save(\"Palmprint_detection_guass_optimzed.model\")"
   ]
  },
  {
   "cell_type": "code",
   "execution_count": 86,
   "id": "a769f35f",
   "metadata": {},
   "outputs": [],
   "source": [
    "def UploadImgMeanth(PATH):\n",
    "    wavelength = 10\n",
    "    orientation = 0\n",
    "    phase_offset = 1*np.pi\n",
    "    sigma = 4.2\n",
    "    IMGSIZE=500\n",
    "    grayimg=cv.imread(os.path.join(PATH),cv.IMREAD_GRAYSCALE)\n",
    "    resizedimg=cv.resize(grayimg,(IMG_SIZE,IMG_SIZE))\n",
    "    croppedimg=resizedimg[250:470,100:370]\n",
    "    gaborimg=[]\n",
    "    gaborimg.append(gabor_filter(croppedimg,10,0,1*np.pi,4.2))\n",
    "    gaborimg.append(gabor_filter(croppedimg,10,0,0,3.9))\n",
    "    gaborimg.append(gabor_filter(croppedimg,10,0,1*np.pi,4.3))\n",
    "    gaborimg.append(gabor_filter(croppedimg,10,30,1*np.pi,4.3))\n",
    "    gaborimg.append(gabor_filter(croppedimg,10,30,1*np.pi,4.2))\n",
    "    gaborimg.append(gabor_filter(croppedimg,10,25,0,3.9))\n",
    "    medianimg=map(medianblurFunc,gaborimg)\n",
    "    meanthimg=list(map(Mean_thresholding,medianimg))\n",
    "#     L=[meanthinmg]\n",
    "#     return np.array(L).reshape(-1,220,270,1)\n",
    "    return np.array(meanthimg).reshape(-1,220,270,1)"
   ]
  },
  {
   "cell_type": "code",
   "execution_count": 14,
   "id": "b53c6c4d",
   "metadata": {},
   "outputs": [],
   "source": [
    "new_model=tf.keras.models.load_model(\"Palmprint_detection_meanth_optimized.model\")"
   ]
  },
  {
   "cell_type": "code",
   "execution_count": 87,
   "id": "95b6e132",
   "metadata": {},
   "outputs": [],
   "source": [
    "img=UploadImgMeanth(\"test_img.jpg\")\n"
   ]
  },
  {
   "cell_type": "code",
   "execution_count": 88,
   "id": "8021aa51",
   "metadata": {},
   "outputs": [
    {
     "data": {
      "text/plain": [
       "array([[[[255],\n",
       "         [255],\n",
       "         [  0],\n",
       "         ...,\n",
       "         [  0],\n",
       "         [  0],\n",
       "         [  0]],\n",
       "\n",
       "        [[255],\n",
       "         [255],\n",
       "         [  0],\n",
       "         ...,\n",
       "         [  0],\n",
       "         [  0],\n",
       "         [  0]],\n",
       "\n",
       "        [[255],\n",
       "         [255],\n",
       "         [  0],\n",
       "         ...,\n",
       "         [  0],\n",
       "         [  0],\n",
       "         [  0]],\n",
       "\n",
       "        ...,\n",
       "\n",
       "        [[  0],\n",
       "         [  0],\n",
       "         [  0],\n",
       "         ...,\n",
       "         [  0],\n",
       "         [  0],\n",
       "         [  0]],\n",
       "\n",
       "        [[  0],\n",
       "         [  0],\n",
       "         [  0],\n",
       "         ...,\n",
       "         [  0],\n",
       "         [  0],\n",
       "         [  0]],\n",
       "\n",
       "        [[  0],\n",
       "         [  0],\n",
       "         [  0],\n",
       "         ...,\n",
       "         [  0],\n",
       "         [  0],\n",
       "         [  0]]],\n",
       "\n",
       "\n",
       "       [[[255],\n",
       "         [255],\n",
       "         [255],\n",
       "         ...,\n",
       "         [255],\n",
       "         [255],\n",
       "         [255]],\n",
       "\n",
       "        [[255],\n",
       "         [255],\n",
       "         [255],\n",
       "         ...,\n",
       "         [255],\n",
       "         [255],\n",
       "         [255]],\n",
       "\n",
       "        [[255],\n",
       "         [255],\n",
       "         [255],\n",
       "         ...,\n",
       "         [255],\n",
       "         [255],\n",
       "         [255]],\n",
       "\n",
       "        ...,\n",
       "\n",
       "        [[255],\n",
       "         [255],\n",
       "         [255],\n",
       "         ...,\n",
       "         [255],\n",
       "         [255],\n",
       "         [255]],\n",
       "\n",
       "        [[255],\n",
       "         [255],\n",
       "         [255],\n",
       "         ...,\n",
       "         [255],\n",
       "         [255],\n",
       "         [255]],\n",
       "\n",
       "        [[255],\n",
       "         [255],\n",
       "         [255],\n",
       "         ...,\n",
       "         [255],\n",
       "         [255],\n",
       "         [255]]],\n",
       "\n",
       "\n",
       "       [[[255],\n",
       "         [255],\n",
       "         [255],\n",
       "         ...,\n",
       "         [255],\n",
       "         [  0],\n",
       "         [  0]],\n",
       "\n",
       "        [[255],\n",
       "         [255],\n",
       "         [255],\n",
       "         ...,\n",
       "         [255],\n",
       "         [  0],\n",
       "         [  0]],\n",
       "\n",
       "        [[255],\n",
       "         [255],\n",
       "         [255],\n",
       "         ...,\n",
       "         [255],\n",
       "         [  0],\n",
       "         [  0]],\n",
       "\n",
       "        ...,\n",
       "\n",
       "        [[  0],\n",
       "         [  0],\n",
       "         [255],\n",
       "         ...,\n",
       "         [  0],\n",
       "         [  0],\n",
       "         [  0]],\n",
       "\n",
       "        [[  0],\n",
       "         [  0],\n",
       "         [255],\n",
       "         ...,\n",
       "         [  0],\n",
       "         [  0],\n",
       "         [  0]],\n",
       "\n",
       "        [[  0],\n",
       "         [  0],\n",
       "         [  0],\n",
       "         ...,\n",
       "         [  0],\n",
       "         [  0],\n",
       "         [  0]]],\n",
       "\n",
       "\n",
       "       [[[  0],\n",
       "         [  0],\n",
       "         [  0],\n",
       "         ...,\n",
       "         [255],\n",
       "         [255],\n",
       "         [255]],\n",
       "\n",
       "        [[  0],\n",
       "         [  0],\n",
       "         [  0],\n",
       "         ...,\n",
       "         [255],\n",
       "         [255],\n",
       "         [255]],\n",
       "\n",
       "        [[  0],\n",
       "         [  0],\n",
       "         [  0],\n",
       "         ...,\n",
       "         [255],\n",
       "         [255],\n",
       "         [255]],\n",
       "\n",
       "        ...,\n",
       "\n",
       "        [[255],\n",
       "         [255],\n",
       "         [255],\n",
       "         ...,\n",
       "         [255],\n",
       "         [255],\n",
       "         [255]],\n",
       "\n",
       "        [[255],\n",
       "         [255],\n",
       "         [255],\n",
       "         ...,\n",
       "         [255],\n",
       "         [255],\n",
       "         [255]],\n",
       "\n",
       "        [[255],\n",
       "         [255],\n",
       "         [255],\n",
       "         ...,\n",
       "         [255],\n",
       "         [255],\n",
       "         [255]]],\n",
       "\n",
       "\n",
       "       [[[  0],\n",
       "         [  0],\n",
       "         [  0],\n",
       "         ...,\n",
       "         [255],\n",
       "         [255],\n",
       "         [255]],\n",
       "\n",
       "        [[  0],\n",
       "         [  0],\n",
       "         [  0],\n",
       "         ...,\n",
       "         [255],\n",
       "         [  0],\n",
       "         [  0]],\n",
       "\n",
       "        [[  0],\n",
       "         [  0],\n",
       "         [  0],\n",
       "         ...,\n",
       "         [  0],\n",
       "         [  0],\n",
       "         [  0]],\n",
       "\n",
       "        ...,\n",
       "\n",
       "        [[255],\n",
       "         [255],\n",
       "         [255],\n",
       "         ...,\n",
       "         [255],\n",
       "         [255],\n",
       "         [255]],\n",
       "\n",
       "        [[255],\n",
       "         [255],\n",
       "         [255],\n",
       "         ...,\n",
       "         [255],\n",
       "         [255],\n",
       "         [255]],\n",
       "\n",
       "        [[255],\n",
       "         [255],\n",
       "         [255],\n",
       "         ...,\n",
       "         [255],\n",
       "         [255],\n",
       "         [255]]],\n",
       "\n",
       "\n",
       "       [[[255],\n",
       "         [255],\n",
       "         [255],\n",
       "         ...,\n",
       "         [255],\n",
       "         [255],\n",
       "         [255]],\n",
       "\n",
       "        [[255],\n",
       "         [255],\n",
       "         [255],\n",
       "         ...,\n",
       "         [255],\n",
       "         [255],\n",
       "         [255]],\n",
       "\n",
       "        [[255],\n",
       "         [255],\n",
       "         [255],\n",
       "         ...,\n",
       "         [255],\n",
       "         [255],\n",
       "         [255]],\n",
       "\n",
       "        ...,\n",
       "\n",
       "        [[255],\n",
       "         [255],\n",
       "         [255],\n",
       "         ...,\n",
       "         [255],\n",
       "         [255],\n",
       "         [255]],\n",
       "\n",
       "        [[255],\n",
       "         [255],\n",
       "         [255],\n",
       "         ...,\n",
       "         [255],\n",
       "         [255],\n",
       "         [255]],\n",
       "\n",
       "        [[255],\n",
       "         [255],\n",
       "         [255],\n",
       "         ...,\n",
       "         [255],\n",
       "         [255],\n",
       "         [255]]]], dtype=uint8)"
      ]
     },
     "execution_count": 88,
     "metadata": {},
     "output_type": "execute_result"
    }
   ],
   "source": [
    "# plt.imshow(img)\n",
    "img"
   ]
  },
  {
   "cell_type": "code",
   "execution_count": 89,
   "id": "b4d0b3c6",
   "metadata": {},
   "outputs": [
    {
     "name": "stdout",
     "output_type": "stream",
     "text": [
      "1/1 [==============================] - 0s 72ms/step\n"
     ]
    },
    {
     "data": {
      "text/plain": [
       "[3, 8, 5, 10, 11, 10]"
      ]
     },
     "execution_count": 89,
     "metadata": {},
     "output_type": "execute_result"
    }
   ],
   "source": [
    "list(map(np.argmax,model.predict(img)))"
   ]
  },
  {
   "cell_type": "code",
   "execution_count": 39,
   "id": "4d49c901",
   "metadata": {},
   "outputs": [],
   "source": [
    "def gabor_filter(img, wavelength, orientation, phase_offset, sigma):\n",
    "    # Create the filter kernel\n",
    "    kernel = cv.getGaborKernel((15,15), sigma, orientation, wavelength, 0.5, phase_offset)\n",
    "    # Convolve the image with the filter\n",
    "    filtered_img = cv.filter2D(img, cv.CV_8UC3, kernel)\n",
    "    # Normalize the output image\n",
    "#     return cv.normalize(filtered_img, None, 0, 255, cv.NORM_MINMAX)\n",
    "    return filtered_img"
   ]
  },
  {
   "cell_type": "code",
   "execution_count": 40,
   "id": "0ecefc6c",
   "metadata": {},
   "outputs": [],
   "source": [
    "def medianblurFunc(img):\n",
    "    return cv.medianBlur(img,3)"
   ]
  },
  {
   "cell_type": "code",
   "execution_count": 41,
   "id": "ca88cbef",
   "metadata": {},
   "outputs": [],
   "source": [
    "def Mean_thresholding(img):\n",
    "    meanth=cv.adaptiveThreshold(img,255,cv.ADAPTIVE_THRESH_MEAN_C,cv.THRESH_BINARY,11,2)\n",
    "    return meanth"
   ]
  },
  {
   "cell_type": "code",
   "execution_count": 42,
   "id": "98f82ac1",
   "metadata": {},
   "outputs": [],
   "source": [
    "def Gaussian_thresholding(img):\n",
    "    return cv.adaptiveThreshold(img,255,cv.ADAPTIVE_THRESH_GAUSSIAN_C,cv.THRESH_BINARY,11,2)"
   ]
  },
  {
   "cell_type": "code",
   "execution_count": 94,
   "id": "7099c836",
   "metadata": {},
   "outputs": [],
   "source": [
    "def UploadImgGuass(PATH):\n",
    "    wavelength = 10\n",
    "    orientation = 0\n",
    "    phase_offset = 1*np.pi\n",
    "    sigma = 4.2\n",
    "    IMGSIZE=500\n",
    "    grayimg=cv.imread(os.path.join(PATH),cv.IMREAD_GRAYSCALE)\n",
    "    resizedimg=cv.resize(grayimg,(IMG_SIZE,IMG_SIZE))\n",
    "    croppedimg=resizedimg[250:470,100:370]\n",
    "    gaborimg=[]\n",
    "    gaborimg.append(gabor_filter(croppedimg,10,0,1*np.pi,4.2))\n",
    "    gaborimg.append(gabor_filter(croppedimg,10,0,0,3.9))\n",
    "    gaborimg.append(gabor_filter(croppedimg,10,0,1*np.pi,4.3))\n",
    "    gaborimg.append(gabor_filter(croppedimg,10,30,1*np.pi,4.3))\n",
    "    gaborimg.append(gabor_filter(croppedimg,10,30,1*np.pi,4.2))\n",
    "    gaborimg.append(gabor_filter(croppedimg,10,25,0,3.9))\n",
    "    medianimg=map(medianblurFunc,gaborimg)\n",
    "    Guassimg=list(map(Gaussian_thresholding,medianimg))\n",
    "#     L=[meanthinmg]\n",
    "#     return np.array(L).reshape(-1,220,270,1)\n",
    "    return np.array(Guassimg).reshape(-1,220,270,1)"
   ]
  },
  {
   "cell_type": "code",
   "execution_count": 95,
   "id": "b8e6e6bb",
   "metadata": {},
   "outputs": [],
   "source": [
    "new_model=tf.keras.models.load_model(\"Palmprint_detection_guass_optimzed.model\")"
   ]
  },
  {
   "cell_type": "code",
   "execution_count": 96,
   "id": "599b82d0",
   "metadata": {},
   "outputs": [
    {
     "name": "stdout",
     "output_type": "stream",
     "text": [
      "1/1 [==============================] - 0s 113ms/step\n"
     ]
    },
    {
     "data": {
      "text/plain": [
       "10"
      ]
     },
     "execution_count": 96,
     "metadata": {},
     "output_type": "execute_result"
    }
   ],
   "source": [
    "np.argmax(new_model.predict(UploadImgGuass(\"test_img.jpg\")))"
   ]
  },
  {
   "cell_type": "code",
   "execution_count": 97,
   "id": "bee58355",
   "metadata": {},
   "outputs": [
    {
     "name": "stdout",
     "output_type": "stream",
     "text": [
      "1/1 [==============================] - 0s 65ms/step\n"
     ]
    },
    {
     "data": {
      "text/plain": [
       "[10, 10, 10, 0, 7, 10]"
      ]
     },
     "execution_count": 97,
     "metadata": {},
     "output_type": "execute_result"
    }
   ],
   "source": [
    "list(map(np.argmax,new_model.predict(img)))"
   ]
  },
  {
   "cell_type": "code",
   "execution_count": null,
   "id": "a287bfb2",
   "metadata": {},
   "outputs": [],
   "source": []
  }
 ],
 "metadata": {
  "kernelspec": {
   "display_name": "Python 3 (ipykernel)",
   "language": "python",
   "name": "python3"
  },
  "language_info": {
   "codemirror_mode": {
    "name": "ipython",
    "version": 3
   },
   "file_extension": ".py",
   "mimetype": "text/x-python",
   "name": "python",
   "nbconvert_exporter": "python",
   "pygments_lexer": "ipython3",
   "version": "3.10.10"
  }
 },
 "nbformat": 4,
 "nbformat_minor": 5
}
